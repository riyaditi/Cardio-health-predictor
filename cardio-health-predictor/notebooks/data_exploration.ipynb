{
 "cells": [
  {
   "cell_type": "code",
   "execution_count": 1,
   "id": "70c521aa",
   "metadata": {},
   "outputs": [],
   "source": [
    "# Import necessary libraries\n",
    "import pandas as pd\n",
    "import numpy as np\n",
    "import matplotlib.pyplot as plt\n",
    "import seaborn as sns"
   ]
  },
  {
   "cell_type": "code",
   "execution_count": 5,
   "id": "b40351a0",
   "metadata": {},
   "outputs": [],
   "source": [
    "# Load the dataset\n",
    "df = pd.read_csv('D:\\\\cardio-health-predictor\\\\data\\\\cardio_train.csv', sep=';')"
   ]
  },
  {
   "cell_type": "code",
   "execution_count": 6,
   "id": "21ac11d3",
   "metadata": {},
   "outputs": [
    {
     "name": "stdout",
     "output_type": "stream",
     "text": [
      "--- Dataset Head ---\n",
      "   id    age  gender  height  weight  ap_hi  ap_lo  cholesterol  gluc  smoke  \\\n",
      "0   0  18393       2     168    62.0    110     80            1     1      0   \n",
      "1   1  20228       1     156    85.0    140     90            3     1      0   \n",
      "2   2  18857       1     165    64.0    130     70            3     1      0   \n",
      "3   3  17623       2     169    82.0    150    100            1     1      0   \n",
      "4   4  17474       1     156    56.0    100     60            1     1      0   \n",
      "\n",
      "   alco  active  cardio  \n",
      "0     0       1       0  \n",
      "1     0       1       1  \n",
      "2     0       0       1  \n",
      "3     0       1       1  \n",
      "4     0       0       0  \n",
      "\n",
      "--- Dataset Info ---\n",
      "<class 'pandas.core.frame.DataFrame'>\n",
      "RangeIndex: 70000 entries, 0 to 69999\n",
      "Data columns (total 13 columns):\n",
      " #   Column       Non-Null Count  Dtype  \n",
      "---  ------       --------------  -----  \n",
      " 0   id           70000 non-null  int64  \n",
      " 1   age          70000 non-null  int64  \n",
      " 2   gender       70000 non-null  int64  \n",
      " 3   height       70000 non-null  int64  \n",
      " 4   weight       70000 non-null  float64\n",
      " 5   ap_hi        70000 non-null  int64  \n",
      " 6   ap_lo        70000 non-null  int64  \n",
      " 7   cholesterol  70000 non-null  int64  \n",
      " 8   gluc         70000 non-null  int64  \n",
      " 9   smoke        70000 non-null  int64  \n",
      " 10  alco         70000 non-null  int64  \n",
      " 11  active       70000 non-null  int64  \n",
      " 12  cardio       70000 non-null  int64  \n",
      "dtypes: float64(1), int64(12)\n",
      "memory usage: 6.9 MB\n",
      "\n",
      "--- Missing Values ---\n",
      "id             0\n",
      "age            0\n",
      "gender         0\n",
      "height         0\n",
      "weight         0\n",
      "ap_hi          0\n",
      "ap_lo          0\n",
      "cholesterol    0\n",
      "gluc           0\n",
      "smoke          0\n",
      "alco           0\n",
      "active         0\n",
      "cardio         0\n",
      "dtype: int64\n"
     ]
    }
   ],
   "source": [
    "# --- 1. Initial Data Inspection ---\n",
    "print(\"--- Dataset Head ---\")\n",
    "print(df.head())\n",
    "print(\"\\n--- Dataset Info ---\")\n",
    "df.info()\n",
    "print(\"\\n--- Missing Values ---\")\n",
    "print(df.isnull().sum())"
   ]
  },
  {
   "cell_type": "code",
   "execution_count": 7,
   "id": "0e10dbc0",
   "metadata": {},
   "outputs": [],
   "source": [
    "# --- 2. Feature Engineering & Cleaning ---\n",
    "# Convert age from days to years\n",
    "df['age_years'] = (df['age'] / 365).round().astype(int)"
   ]
  },
  {
   "cell_type": "code",
   "execution_count": 8,
   "id": "bcde0f83",
   "metadata": {},
   "outputs": [],
   "source": [
    "# Create BMI feature\n",
    "df['bmi'] = df['weight'] / ((df['height'] / 100) ** 2)"
   ]
  },
  {
   "cell_type": "code",
   "execution_count": 9,
   "id": "bd79d42e",
   "metadata": {},
   "outputs": [
    {
     "name": "stdout",
     "output_type": "stream",
     "text": [
      "\n",
      "--- Statistics for New Features (Age in Years & BMI) ---\n",
      "          age_years           bmi\n",
      "count  70000.000000  70000.000000\n",
      "mean      53.338686     27.556513\n",
      "std        6.765294      6.091511\n",
      "min       30.000000      3.471784\n",
      "25%       48.000000     23.875115\n",
      "50%       54.000000     26.374068\n",
      "75%       58.000000     30.222222\n",
      "max       65.000000    298.666667\n"
     ]
    }
   ],
   "source": [
    "# Display some statistics for the new features\n",
    "print(\"\\n--- Statistics for New Features (Age in Years & BMI) ---\")\n",
    "print(df[['age_years', 'bmi']].describe())"
   ]
  },
  {
   "cell_type": "code",
   "execution_count": 10,
   "id": "1227d6fe",
   "metadata": {},
   "outputs": [
    {
     "name": "stdout",
     "output_type": "stream",
     "text": [
      "\n",
      "Generating visualizations...\n"
     ]
    }
   ],
   "source": [
    "# --- 3. Visualization ---\n",
    "print(\"\\nGenerating visualizations...\")"
   ]
  },
  {
   "cell_type": "code",
   "execution_count": 11,
   "id": "5a85c7a1",
   "metadata": {},
   "outputs": [],
   "source": [
    "# Age distribution vs. Cardio\n",
    "plt.figure(figsize=(10, 6))\n",
    "sns.histplot(data=df, x='age_years', hue='cardio', multiple='stack', kde=True, palette='viridis')\n",
    "plt.title('Age Distribution by Cardiovascular Disease Outcome')\n",
    "plt.xlabel('Age (Years)')\n",
    "plt.ylabel('Count')\n",
    "plt.savefig('D:\\\\cardio-health-predictor\\\\visuals\\\\age_distribution.png')\n",
    "plt.close()"
   ]
  },
  {
   "cell_type": "code",
   "execution_count": 12,
   "id": "d6bfef67",
   "metadata": {},
   "outputs": [],
   "source": [
    "# Correlation Matrix Heatmap\n",
    "plt.figure(figsize=(12, 10))\n",
    "# Drop the original 'age' in days for a cleaner correlation matrix\n",
    "corr_matrix = df.drop('age', axis=1).corr()\n",
    "sns.heatmap(corr_matrix, annot=True, cmap='coolwarm', fmt=\".2f\", linewidths=.5)\n",
    "plt.title('Correlation Matrix of Health Features')\n",
    "plt.savefig('D:\\\\cardio-health-predictor\\\\visuals\\\\correlation_matrix.png')\n",
    "plt.close()"
   ]
  },
  {
   "cell_type": "code",
   "execution_count": 14,
   "id": "12cd5560",
   "metadata": {},
   "outputs": [
    {
     "name": "stderr",
     "output_type": "stream",
     "text": [
      "C:\\Users\\Dell\\AppData\\Local\\Temp\\ipykernel_100\\3150731993.py:10: UserWarning: set_ticklabels() should only be used with a fixed number of ticks, i.e. after set_ticks() or using a FixedLocator.\n",
      "  axes[0, 1].set_xticklabels(['Female', 'Male'])\n"
     ]
    }
   ],
   "source": [
    "# Plotting distributions of key features\n",
    "fig, axes = plt.subplots(2, 3, figsize=(18, 10))\n",
    "fig.suptitle('Distribution of Key Health Metrics', fontsize=16)\n",
    "\n",
    "sns.histplot(ax=axes[0, 0], data=df, x='age_years', hue='cardio', multiple='stack', kde=True)\n",
    "axes[0, 0].set_title('Age Distribution by Cardio Outcome')\n",
    "\n",
    "sns.countplot(ax=axes[0, 1], data=df, x='gender', hue='cardio')\n",
    "axes[0, 1].set_title('Gender Distribution by Cardio Outcome')\n",
    "axes[0, 1].set_xticklabels(['Female', 'Male'])\n",
    "\n",
    "\n",
    "sns.histplot(ax=axes[0, 2], data=df, x='height', kde=True)\n",
    "axes[0, 2].set_title('Height Distribution')\n",
    "\n",
    "sns.histplot(ax=axes[1, 0], data=df, x='weight', kde=True)\n",
    "axes[1, 0].set_title('Weight Distribution')\n",
    "\n",
    "sns.countplot(ax=axes[1, 1], data=df, x='cholesterol', hue='cardio')\n",
    "axes[1, 1].set_title('Cholesterol Levels by Cardio Outcome')\n",
    "\n",
    "sns.countplot(ax=axes[1, 2], data=df, x='gluc', hue='cardio')\n",
    "axes[1, 2].set_title('Glucose Levels by Cardio Outcome')\n",
    "\n",
    "plt.tight_layout(rect=[0, 0.03, 1, 0.95])\n",
    "plt.savefig('D:\\\\cardio-health-predictor\\\\visuals\\\\health_metrics_distributions.png')\n",
    "plt.close()\n"
   ]
  },
  {
   "cell_type": "code",
   "execution_count": 15,
   "id": "1f98c259",
   "metadata": {},
   "outputs": [
    {
     "name": "stdout",
     "output_type": "stream",
     "text": [
      "EDA complete. Visualizations saved to the 'visuals' folder.\n"
     ]
    }
   ],
   "source": [
    "print(\"EDA complete. Visualizations saved to the 'visuals' folder.\")"
   ]
  }
 ],
 "metadata": {
  "kernelspec": {
   "display_name": "base",
   "language": "python",
   "name": "python3"
  },
  "language_info": {
   "codemirror_mode": {
    "name": "ipython",
    "version": 3
   },
   "file_extension": ".py",
   "mimetype": "text/x-python",
   "name": "python",
   "nbconvert_exporter": "python",
   "pygments_lexer": "ipython3",
   "version": "3.12.7"
  }
 },
 "nbformat": 4,
 "nbformat_minor": 5
}
